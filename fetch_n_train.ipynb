{
 "cells": [
  {
   "cell_type": "code",
   "execution_count": 1,
   "metadata": {},
   "outputs": [],
   "source": [
    "import yfinance as yf\n",
    "import pandas as pd\n",
    "\n",
    "def fetch_data(ticker=\"AAPL\", period=\"1y\"):\n",
    "    stock = yf.Ticker(ticker)\n",
    "    df = stock.history(period=period)\n",
    "    df.to_csv(f\"data/{ticker}_history.csv\")\n",
    "    return df\n",
    "\n",
    "# Fetch data\n",
    "data = fetch_data()"
   ]
  },
  {
   "cell_type": "code",
   "execution_count": 21,
   "metadata": {},
   "outputs": [],
   "source": [
    "import numpy as np\n",
    "# Here we cut the long sequnce of the data in N sumber of sequences of length seq_length \n",
    "# and the targest are N sequences of predict_length which come right behind the sequence\n",
    "# we can put any column of the df as target column wiht  the same sting name \n",
    "\n",
    "# Function to cre\n",
    "def create_sequences(df, seq_length, predict_length, target_column):\n",
    "    sequences = []\n",
    "    targets = []\n",
    "   \n",
    "    target_idx = df.columns.get_loc(target_column)\n",
    "    print(target_idx)\n",
    "    for i in range(len(data) - seq_length - predict_length + 1):\n",
    "        sequence = data[i:i + seq_length]\n",
    "        target = data[i + seq_length:i + seq_length + predict_length, target_idx]\n",
    "        sequences.append(sequence)\n",
    "        targets.append(target)\n",
    "    return np.array(sequences), np.array(targets)\n"
   ]
  },
  {
   "cell_type": "code",
   "execution_count": 23,
   "metadata": {},
   "outputs": [
    {
     "name": "stdout",
     "output_type": "stream",
     "text": [
      "4\n",
      "(220, 30, 5)\n",
      "(220, 3)\n"
     ]
    },
    {
     "data": {
      "text/plain": [
       "torch.Size([44, 3])"
      ]
     },
     "execution_count": 23,
     "metadata": {},
     "output_type": "execute_result"
    }
   ],
   "source": [
    "\n",
    "import pandas as pd\n",
    "from sklearn.preprocessing import MinMaxScaler\n",
    "import torch\n",
    "# Load data\n",
    "df = pd.read_csv('data/AAPL_history.csv', index_col='Date', parse_dates=True)\n",
    "\n",
    "df = df[['Open', 'High', 'Low', 'Volume', 'Close']]\n",
    "# using the 4 columns ['Open','High','Low','Volume'] as input \n",
    "# using the cloumn ['Close'] as output \n",
    "# normalizing the input and output \n",
    "scaler = MinMaxScaler()\n",
    "df[df.columns] = scaler.fit_transform(df[df.columns])\n",
    "#print(df.head())\n",
    "# Convert to numpy array\n",
    "\n",
    "\n",
    "#Create sequences\n",
    "# Parameters\n",
    "seq_length = 30\n",
    "predict_length = 3  # Number of days to predict\n",
    "target_column = 'Close'\n",
    "\n",
    "sequences, targets = create_sequences(df, seq_length, predict_length, target_column)\n",
    "\n",
    "print(sequences.shape)\n",
    "print(targets.shape)\n",
    "# Split into training and testing sets\n",
    "train_size = int(len(sequences) * 0.8)\n",
    "train_sequences = sequences[:train_size]\n",
    "train_targets = targets[:train_size]\n",
    "test_sequences = sequences[train_size:]\n",
    "test_targets = targets[train_size:]\n",
    "\n",
    "# Convert to PyTorch tensors\n",
    "X_train= torch.tensor(train_sequences, dtype=torch.float32)\n",
    "Y_train = torch.tensor(train_targets, dtype=torch.float32)\n",
    "X_test= torch.tensor(test_sequences, dtype=torch.float32)\n",
    "Y_test= torch.tensor(test_targets, dtype=torch.float32)\n",
    "\n",
    "Y_test.shape"
   ]
  },
  {
   "cell_type": "code",
   "execution_count": 24,
   "metadata": {},
   "outputs": [],
   "source": [
    "import torch\n",
    "import torch.nn as nn\n",
    "class RNN_price_predictor(nn.Module):\n",
    "    def __init__(self, input_size, hidden_size, num_layers, output_size):\n",
    "        super(RNN_price_predictor, self).__init__()\n",
    "        self.hidden_size = hidden_size\n",
    "        self.num_layers = num_layers\n",
    "        self.rnn = nn.RNN(input_size, hidden_size, num_layers, batch_first=True)\n",
    "        self.fc = nn.Linear(hidden_size, output_size)\n",
    "    \n",
    "    def forward(self, x):\n",
    "        h0 = torch.zeros(self.num_layers, x.size(0), self.hidden_size).to(x.device)\n",
    "        out, _ = self.rnn(x, h0)\n",
    "        out = self.fc(out[:, -1, :])\n",
    "        return out\n",
    "\n",
    "# Hyperparameters\n",
    "input_size = 5\n",
    "hidden_size = 50\n",
    "num_layers = 2\n",
    "output_size = 3\n"
   ]
  },
  {
   "cell_type": "code",
   "execution_count": 26,
   "metadata": {},
   "outputs": [
    {
     "name": "stdout",
     "output_type": "stream",
     "text": [
      "Epoch [10/100], Loss: 0.0152\n",
      "Epoch [20/100], Loss: 0.0087\n",
      "Epoch [30/100], Loss: 0.0047\n",
      "Epoch [40/100], Loss: 0.0040\n",
      "Epoch [50/100], Loss: 0.0035\n",
      "Epoch [60/100], Loss: 0.0034\n",
      "Epoch [70/100], Loss: 0.0032\n",
      "Epoch [80/100], Loss: 0.0032\n",
      "Epoch [90/100], Loss: 0.0031\n",
      "Epoch [100/100], Loss: 0.0030\n",
      "Test Loss: 0.0175\n"
     ]
    }
   ],
   "source": [
    "\n",
    "import torch.optim as optim\n",
    "import matplotlib.pyplot as plt\n",
    "model = RNN_price_predictor(input_size, hidden_size, num_layers, output_size)\n",
    "\n",
    "# Loss and optimizer\n",
    "criterion = nn.MSELoss()\n",
    "optimizer = optim.Adam(model.parameters(), lr=0.001)\n",
    "\n",
    "# Training loop\n",
    "num_epochs = 100\n",
    "model.train()\n",
    "for epoch in range(num_epochs):\n",
    "    outputs = model(X_train)\n",
    "    optimizer.zero_grad()\n",
    "    loss = criterion(outputs, Y_train)\n",
    "    loss.backward()\n",
    "    optimizer.step()\n",
    "    \n",
    "    if (epoch+1) % 10 == 0:\n",
    "        print(f'Epoch [{epoch+1}/{num_epochs}], Loss: {loss.item():.4f}')\n",
    "\n",
    "# Evaluating the model\n",
    "model.eval()\n",
    "with torch.no_grad():\n",
    "    test_outputs = model(X_test)\n",
    "    test_loss = criterion(test_outputs, Y_test)\n",
    "    print(f'Test Loss: {test_loss.item():.4f}')\n",
    "\n"
   ]
  },
  {
   "cell_type": "code",
   "execution_count": null,
   "metadata": {},
   "outputs": [
    {
     "ename": "",
     "evalue": "",
     "output_type": "error",
     "traceback": [
      "\u001b[1;31mThe kernel failed to start due to an error with the Win32api module. Consider (re) installing this module.\n",
      "\u001b[1;31mClick <a href='https://aka.ms/kernelFailuresWin32Api'>here</a> for more info."
     ]
    }
   ],
   "source": [
    "# Inverse transform to get actual prices\n",
    "test_outputs = model(X_test)\n",
    "test_outputs.shape\n",
    "\n",
    "# Plotting the results for the first test sample\n",
    "#plt.figure(figsize=(12,6))\n",
    "#plt.plot(range(seq_length, seq_length + predict_length))"
   ]
  },
  {
   "cell_type": "code",
   "execution_count": null,
   "metadata": {},
   "outputs": [
    {
     "ename": "",
     "evalue": "",
     "output_type": "error",
     "traceback": [
      "\u001b[1;31mThe kernel failed to start due to an error with the Win32api module. Consider (re) installing this module.\n",
      "\u001b[1;31mClick <a href='https://aka.ms/kernelFailuresWin32Api'>here</a> for more info."
     ]
    }
   ],
   "source": [
    "import mlflow\n",
    "from mlflow.models import infer_signature"
   ]
  },
  {
   "cell_type": "code",
   "execution_count": 11,
   "metadata": {},
   "outputs": [
    {
     "data": {
      "image/png": "[encoded data removed]",
      "text/plain": [
       "<Figure size 432x288 with 1 Axes>"
      ]
     },
     "metadata": {
      "needs_background": "light"
     },
     "output_type": "display_data"
    }
   ],
   "source": [
    "plt.plot(K, distortions, 'bx-')\n",
    "plt.xlabel('Values of K')\n",
    "plt.ylabel('Distortion')\n",
    "plt.title('The Elbow Method using Distortion')\n",
    "plt.show()"
   ]
  }
 ],
 "metadata": {
  "kernelspec": {
   "display_name": "Python 3",
   "language": "python",
   "name": "python3"
  },
  "language_info": {
   "codemirror_mode": {
    "name": "ipython",
    "version": 3
   },
   "file_extension": ".py",
   "mimetype": "text/x-python",
   "name": "python",
   "nbconvert_exporter": "python",
   "pygments_lexer": "ipython3",
   "version": "3.8.5"
  }
 },
 "nbformat": 4,
 "nbformat_minor": 2
}
